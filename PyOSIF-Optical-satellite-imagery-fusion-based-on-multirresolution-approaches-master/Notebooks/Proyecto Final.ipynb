{
 "cells": [
  {
   "cell_type": "markdown",
   "metadata": {},
   "source": [
    "# Python libraries"
   ]
  },
  {
   "cell_type": "code",
   "execution_count": 1,
   "metadata": {},
   "outputs": [],
   "source": [
    "import ee\n",
    "import geemap\n",
    "import os\n",
    "import numpy as np\n",
    "import matplotlib.pyplot as plt"
   ]
  },
  {
   "cell_type": "markdown",
   "metadata": {},
   "source": [
    "# Display map\n",
    "To display the map the Map of geemap is used https://github.com/giswqs/geemap, which inherits from ipyleaft.Map https://ipyleaflet.readthedocs.io/en/latest/api_reference/map.html."
   ]
  },
  {
   "cell_type": "code",
   "execution_count": 2,
   "metadata": {
    "scrolled": false
   },
   "outputs": [
    {
     "data": {
      "application/vnd.jupyter.widget-view+json": {
       "model_id": "ae16c26b1ee2470e8b41d60752021a16",
       "version_major": 2,
       "version_minor": 0
      },
      "text/plain": [
       "Map(center=[40, -100], controls=(WidgetControl(options=['position'], widget=HBox(children=(ToggleButton(value=…"
      ]
     },
     "metadata": {},
     "output_type": "display_data"
    }
   ],
   "source": [
    "Map = geemap.Map()\n",
    "Map"
   ]
  },
  {
   "cell_type": "markdown",
   "metadata": {},
   "source": [
    "# Load Landsat 8 image\n",
    "To load a the image from Landsat 8, a image from Google Earth Engine Data Catalog is filtered https://developers.google.com/earth-engine/datasets/catalog/landsat-8/ and displayed on the interactive map."
   ]
  },
  {
   "cell_type": "code",
   "execution_count": 25,
   "metadata": {
    "scrolled": true
   },
   "outputs": [],
   "source": [
    "lon=-75.32;\n",
    "lat=4.88;\n",
    "\n",
    "point = ee.Geometry.Point(lon, lat);\n",
    "start = ee.Date('2013-02-11');\n",
    "finish = ee.Date('2021-05-30');\n",
    "\n",
    "# Filter a image from the landsat raw images collection, using bounds, date, and selecting the image with the least cloud cover\n",
    "img = ee.ImageCollection('LANDSAT/LC08/C01/T1') \\\n",
    "            .filterBounds(point) \\\n",
    "            .filterDate(start, finish) \\\n",
    "            .sort('CLOUD_COVER', True) \\\n",
    "            .first()\n",
    "\n",
    "# Select the corresponding bands for the multiespectral and panchromatic image\n",
    "img_multi = img.select(['B4', 'B3', 'B2'])\n",
    "img_pan = img.select(['B8'])\n",
    "\n",
    "# Display the images on the map\n",
    "Map.addLayer(img_multi)\n",
    "Map.addLayer(img_pan)\n",
    "\n",
    "# Center the map\n",
    "Map.setCenter(lon, lat, 12)"
   ]
  },
  {
   "cell_type": "markdown",
   "metadata": {},
   "source": [
    "# B. Select a roi using the coordinates\n",
    "Instead of drawing the rectangle, you can select an area by drawing a polygon using the GeoJson convention https://tools.ietf.org/html/rfc7946#section-3.1.6. There is a polygon drawn by default."
   ]
  },
  {
   "cell_type": "code",
   "execution_count": 24,
   "metadata": {},
   "outputs": [
    {
     "name": "stdout",
     "output_type": "stream",
     "text": [
      "Polygon coordinates >> [[[-75.41999999999999, 4.78], [-75.22, 4.78], [-75.22, 4.9799999999999995], [-75.41999999999999, 4.9799999999999995], [-75.41999999999999, 4.78]]]\n"
     ]
    }
   ],
   "source": [
    "delta=0.1;\n",
    "\n",
    "P1=[lon-delta, lat-delta];\n",
    "P2=[lon+delta, lat+delta];\n",
    "\n",
    "\n",
    "# feature to extract\n",
    "roi = ee.Geometry.Rectangle([P1, P2]);\n",
    "\n",
    "# add the polygon to the map\n",
    "Map.addLayer(roi, {}, 'feature');\n",
    "print('Polygon coordinates >>', roi.getInfo().get('coordinates'))"
   ]
  },
  {
   "cell_type": "markdown",
   "metadata": {},
   "source": [
    "# Download the roi as a TIFF file\n",
    "The next block generates the path to store the TIFF."
   ]
  },
  {
   "cell_type": "code",
   "execution_count": 26,
   "metadata": {},
   "outputs": [],
   "source": [
    "out_dir = os.path.join(os.path.expanduser('~'), 'Proyectos/Universidad/Maestria/trozos/SierraNevada')\n",
    "filename_xs = os.path.join(out_dir, 'landsat_multi.tif')\n",
    "filename_pan = os.path.join(out_dir, 'landsat_pan.tif')"
   ]
  },
  {
   "cell_type": "markdown",
   "metadata": {},
   "source": [
    "### Download as raw images without resizing"
   ]
  },
  {
   "cell_type": "markdown",
   "metadata": {},
   "source": [
    "* A TIFF file including all bands"
   ]
  },
  {
   "cell_type": "code",
   "execution_count": 27,
   "metadata": {},
   "outputs": [
    {
     "name": "stdout",
     "output_type": "stream",
     "text": [
      "Generating URL ...\n",
      "Downloading data from https://earthengine.googleapis.com/v1alpha/projects/earthengine-legacy/thumbnails/2e0530424ec5d650ea2deaee87d786b2-30eca4ad04d8337d50f6b187d602d8e6:getPixels\n",
      "Please wait ...\n",
      "Data downloaded to C:\\Users\\edwin.hurtado\\Proyectos\\Universidad\\Maestria\\trozos\\SierraNevada\\landsat_multi.tif\n",
      "Generating URL ...\n",
      "Downloading data from https://earthengine.googleapis.com/v1alpha/projects/earthengine-legacy/thumbnails/b5dd3790a988edb8cfad8353f5394214-ffe776ec25305b4a3c2328e1977d6b8f:getPixels\n",
      "Please wait ...\n",
      "Data downloaded to C:\\Users\\edwin.hurtado\\Proyectos\\Universidad\\Maestria\\trozos\\SierraNevada\\landsat_pan.tif\n"
     ]
    }
   ],
   "source": [
    "geemap.ee_export_image(img_multi, filename=filename_xs, region=roi, file_per_band=False)\n",
    "geemap.ee_export_image(img_pan, filename=filename_pan, region=roi, file_per_band=False)"
   ]
  },
  {
   "cell_type": "markdown",
   "metadata": {},
   "source": [
    "* A TIFF file for each band"
   ]
  },
  {
   "cell_type": "code",
   "execution_count": 28,
   "metadata": {},
   "outputs": [
    {
     "name": "stdout",
     "output_type": "stream",
     "text": [
      "Generating URL ...\n",
      "Downloading data from https://earthengine.googleapis.com/v1alpha/projects/earthengine-legacy/thumbnails/c26fa3103517e0def4d0934984023cc4-78055a3179399bd8429ae5d827204e0a:getPixels\n",
      "Please wait ...\n",
      "Data downloaded to C:\\Users\\edwin.hurtado\\Proyectos\\Universidad\\Maestria\\trozos\\SierraNevada\n",
      "Generating URL ...\n",
      "Downloading data from https://earthengine.googleapis.com/v1alpha/projects/earthengine-legacy/thumbnails/b5dd3790a988edb8cfad8353f5394214-242e149d41c30868c7413077385a178b:getPixels\n",
      "Please wait ...\n",
      "Data downloaded to C:\\Users\\edwin.hurtado\\Proyectos\\Universidad\\Maestria\\trozos\\SierraNevada\\landsat_pan.tif\n"
     ]
    }
   ],
   "source": [
    "geemap.ee_export_image(img_multi, filename=filename_xs, region=roi, file_per_band=True)\n",
    "geemap.ee_export_image(img_pan, filename=filename_pan, region=roi, file_per_band=False)"
   ]
  },
  {
   "cell_type": "markdown",
   "metadata": {},
   "source": [
    "### Download resized images"
   ]
  },
  {
   "cell_type": "markdown",
   "metadata": {},
   "source": [
    "* A TIFF file including all bands"
   ]
  },
  {
   "cell_type": "code",
   "execution_count": 33,
   "metadata": {},
   "outputs": [
    {
     "name": "stdout",
     "output_type": "stream",
     "text": [
      "Generating URL ...\n",
      "Downloading data from https://earthengine.googleapis.com/v1alpha/projects/earthengine-legacy/thumbnails/7bb793d2fa2251a38559861fef38a714-6c429c9b97d0902d2ef186986e2eec37:getPixels\n",
      "Please wait ...\n",
      "Data downloaded to C:\\Users\\edwin.hurtado\\Proyectos\\Universidad\\Maestria\\trozos\\SierraNevada\\landsat_multi.tif\n",
      "Generating URL ...\n",
      "Downloading data from https://earthengine.googleapis.com/v1alpha/projects/earthengine-legacy/thumbnails/1ea5a583e5de3722b0de71c5c6b27034-752839a16a9c54ff25e912121876deb6:getPixels\n",
      "Please wait ...\n",
      "Data downloaded to C:\\Users\\edwin.hurtado\\Proyectos\\Universidad\\Maestria\\trozos\\SierraNevada\\landsat_pan.tif\n"
     ]
    }
   ],
   "source": [
    "# Set the image scale meters, 150 means 15 meters of resolution, change to the convenient value\n",
    "img_scale = 10\n",
    "geemap.ee_export_image(img_multi, filename=filename_xs, scale = img_scale, region=roi, file_per_band=False)\n",
    "geemap.ee_export_image(img_pan, filename=filename_pan, scale = img_scale, region=roi, file_per_band=False)"
   ]
  },
  {
   "cell_type": "markdown",
   "metadata": {},
   "source": [
    "* A TIFF file for each band (This option is recommended to proceed with the pansharpening module)"
   ]
  },
  {
   "cell_type": "code",
   "execution_count": 34,
   "metadata": {},
   "outputs": [
    {
     "name": "stdout",
     "output_type": "stream",
     "text": [
      "Generating URL ...\n",
      "Downloading data from https://earthengine.googleapis.com/v1alpha/projects/earthengine-legacy/thumbnails/3cb6e5b0d8d333bd572534e2cb83897a-05db750ad677d9bb6dc8109acf004e20:getPixels\n",
      "Please wait ...\n",
      "Data downloaded to C:\\Users\\edwin.hurtado\\Proyectos\\Universidad\\Maestria\\trozos\\SierraNevada\n",
      "Generating URL ...\n",
      "Downloading data from https://earthengine.googleapis.com/v1alpha/projects/earthengine-legacy/thumbnails/1ea5a583e5de3722b0de71c5c6b27034-a758d0ff2919c5bc4f388ebc70794c8e:getPixels\n",
      "Please wait ...\n",
      "Data downloaded to C:\\Users\\edwin.hurtado\\Proyectos\\Universidad\\Maestria\\trozos\\SierraNevada\\landsat_pan.tif\n"
     ]
    }
   ],
   "source": [
    "# Set the image scale meters, 150 means 15 meters of resolution, change to the convenient value\n",
    "img_scale = 10\n",
    "geemap.ee_export_image(img_multi, filename=filename_xs, scale = img_scale, region=roi, file_per_band=True)\n",
    "geemap.ee_export_image(img_pan, filename=filename_pan, scale = img_scale, region=roi, file_per_band=False)"
   ]
  },
  {
   "cell_type": "code",
   "execution_count": 39,
   "metadata": {},
   "outputs": [
    {
     "name": "stdout",
     "output_type": "stream",
     "text": [
      "2013-01-01_2014-01-01\n",
      "2014-01-01_2015-01-01\n",
      "2015-01-01_2016-01-01\n",
      "2016-01-01_2017-01-01\n",
      "2017-01-01_2018-01-01\n",
      "2018-01-01_2019-01-01\n",
      "2019-01-01_2020-01-01\n",
      "2020-01-01_2021-01-01\n"
     ]
    }
   ],
   "source": []
  },
  {
   "cell_type": "raw",
   "metadata": {},
   "source": []
  },
  {
   "cell_type": "code",
   "execution_count": 48,
   "metadata": {},
   "outputs": [
    {
     "name": "stdout",
     "output_type": "stream",
     "text": [
      "Polygon coordinates >> [[[-75.41999999999999, 4.78], [-75.22, 4.78], [-75.22, 4.9799999999999995], [-75.41999999999999, 4.9799999999999995], [-75.41999999999999, 4.78]]]\n",
      "Generating URL ...\n",
      "Downloading data from https://earthengine.googleapis.com/v1alpha/projects/earthengine-legacy/thumbnails/3224286d6a305c1366a5c202f78792d1-5d3b3f12f98aac5f0aea66cbadfb70da:getPixels\n",
      "Please wait ...\n",
      "Data downloaded to C:\\Users\\edwin.hurtado\\Proyectos\\Universidad\\Maestria\\trozos\\SierraNevada\\landsat_multi2013-01-01_2014-01-01.tif\n",
      "Generating URL ...\n",
      "Downloading data from https://earthengine.googleapis.com/v1alpha/projects/earthengine-legacy/thumbnails/b64070808e67e5de4b49248b835f47a3-1cf9407a815b7212f3fe4eda69590822:getPixels\n",
      "Please wait ...\n",
      "Data downloaded to C:\\Users\\edwin.hurtado\\Proyectos\\Universidad\\Maestria\\trozos\\SierraNevada\n",
      "Generating URL ...\n",
      "Downloading data from https://earthengine.googleapis.com/v1alpha/projects/earthengine-legacy/thumbnails/932cb7844f41ee9553c3463541edaac0-b42195de8daf21f7d2e6c204d1aac693:getPixels\n",
      "Please wait ...\n",
      "Data downloaded to C:\\Users\\edwin.hurtado\\Proyectos\\Universidad\\Maestria\\trozos\\SierraNevada\\landsat_pan2013-01-01_2014-01-01.tif\n",
      "Polygon coordinates >> [[[-75.41999999999999, 4.78], [-75.22, 4.78], [-75.22, 4.9799999999999995], [-75.41999999999999, 4.9799999999999995], [-75.41999999999999, 4.78]]]\n",
      "Generating URL ...\n",
      "Downloading data from https://earthengine.googleapis.com/v1alpha/projects/earthengine-legacy/thumbnails/32a87626de1544ba61172c638907224c-88653161428910b9e6dacce9f97edad9:getPixels\n",
      "Please wait ...\n",
      "Data downloaded to C:\\Users\\edwin.hurtado\\Proyectos\\Universidad\\Maestria\\trozos\\SierraNevada\\landsat_multi2014-01-01_2015-01-01.tif\n",
      "Generating URL ...\n",
      "Downloading data from https://earthengine.googleapis.com/v1alpha/projects/earthengine-legacy/thumbnails/04b30f52f847b9bd43d96592cc9b230b-b80bf27ce52fc7f537a5d0bd80e0a17c:getPixels\n",
      "Please wait ...\n",
      "Data downloaded to C:\\Users\\edwin.hurtado\\Proyectos\\Universidad\\Maestria\\trozos\\SierraNevada\n",
      "Generating URL ...\n",
      "Downloading data from https://earthengine.googleapis.com/v1alpha/projects/earthengine-legacy/thumbnails/866e8c25ef918e53847f40864a22ad1e-e390a7f923acf08e145950e4c9dc4b30:getPixels\n",
      "Please wait ...\n",
      "Data downloaded to C:\\Users\\edwin.hurtado\\Proyectos\\Universidad\\Maestria\\trozos\\SierraNevada\\landsat_pan2014-01-01_2015-01-01.tif\n",
      "Polygon coordinates >> [[[-75.41999999999999, 4.78], [-75.22, 4.78], [-75.22, 4.9799999999999995], [-75.41999999999999, 4.9799999999999995], [-75.41999999999999, 4.78]]]\n",
      "Generating URL ...\n",
      "Downloading data from https://earthengine.googleapis.com/v1alpha/projects/earthengine-legacy/thumbnails/6fe5d3d404fbf7eb44160b4adf02239c-b7477d89f22431f602131cf37dd4bf20:getPixels\n",
      "Please wait ...\n",
      "Data downloaded to C:\\Users\\edwin.hurtado\\Proyectos\\Universidad\\Maestria\\trozos\\SierraNevada\\landsat_multi2015-01-01_2016-01-01.tif\n",
      "Generating URL ...\n",
      "Downloading data from https://earthengine.googleapis.com/v1alpha/projects/earthengine-legacy/thumbnails/6ad6838bf8b61d54cca974c04f5f440f-21e7030cac651c3c9fef34c49c50f5fc:getPixels\n",
      "Please wait ...\n",
      "Data downloaded to C:\\Users\\edwin.hurtado\\Proyectos\\Universidad\\Maestria\\trozos\\SierraNevada\n",
      "Generating URL ...\n",
      "Downloading data from https://earthengine.googleapis.com/v1alpha/projects/earthengine-legacy/thumbnails/3c8935caa443fd76f9adf93f28e07485-c97e600ef39519c1c5062676aa91378d:getPixels\n",
      "Please wait ...\n",
      "Data downloaded to C:\\Users\\edwin.hurtado\\Proyectos\\Universidad\\Maestria\\trozos\\SierraNevada\\landsat_pan2015-01-01_2016-01-01.tif\n",
      "Polygon coordinates >> [[[-75.41999999999999, 4.78], [-75.22, 4.78], [-75.22, 4.9799999999999995], [-75.41999999999999, 4.9799999999999995], [-75.41999999999999, 4.78]]]\n",
      "Generating URL ...\n",
      "Downloading data from https://earthengine.googleapis.com/v1alpha/projects/earthengine-legacy/thumbnails/c23b56dc661daa7fad203f166a2e82ea-70f0bd2024186410038ef980888bcd03:getPixels\n",
      "Please wait ...\n",
      "Data downloaded to C:\\Users\\edwin.hurtado\\Proyectos\\Universidad\\Maestria\\trozos\\SierraNevada\\landsat_multi2016-01-01_2017-01-01.tif\n",
      "Generating URL ...\n",
      "Downloading data from https://earthengine.googleapis.com/v1alpha/projects/earthengine-legacy/thumbnails/582347a83a4cfc12830110c426ecd08e-e6978d62cf6f70d9b296b721a624e182:getPixels\n",
      "Please wait ...\n",
      "Data downloaded to C:\\Users\\edwin.hurtado\\Proyectos\\Universidad\\Maestria\\trozos\\SierraNevada\n",
      "Generating URL ...\n",
      "Downloading data from https://earthengine.googleapis.com/v1alpha/projects/earthengine-legacy/thumbnails/297be7df7650b4d8c6810337805021d1-ea140b37c397f34718e0613ac393b40a:getPixels\n",
      "Please wait ...\n",
      "Data downloaded to C:\\Users\\edwin.hurtado\\Proyectos\\Universidad\\Maestria\\trozos\\SierraNevada\\landsat_pan2016-01-01_2017-01-01.tif\n",
      "Polygon coordinates >> [[[-75.41999999999999, 4.78], [-75.22, 4.78], [-75.22, 4.9799999999999995], [-75.41999999999999, 4.9799999999999995], [-75.41999999999999, 4.78]]]\n",
      "Generating URL ...\n",
      "Downloading data from https://earthengine.googleapis.com/v1alpha/projects/earthengine-legacy/thumbnails/e45ecbfd3791d3213901a904531b70bb-798c4d721225a93f0dad933c49d345b7:getPixels\n",
      "Please wait ...\n",
      "Data downloaded to C:\\Users\\edwin.hurtado\\Proyectos\\Universidad\\Maestria\\trozos\\SierraNevada\\landsat_multi2017-01-01_2018-01-01.tif\n",
      "Generating URL ...\n",
      "Downloading data from https://earthengine.googleapis.com/v1alpha/projects/earthengine-legacy/thumbnails/20316d1ff831962fc711709c7a03d121-6b80a989cff7cd62fc3de4e51ec3cced:getPixels\n",
      "Please wait ...\n",
      "Data downloaded to C:\\Users\\edwin.hurtado\\Proyectos\\Universidad\\Maestria\\trozos\\SierraNevada\n",
      "Generating URL ...\n",
      "Downloading data from https://earthengine.googleapis.com/v1alpha/projects/earthengine-legacy/thumbnails/e538d0deb5914b2375df2b1f0c83a41e-8aa65a71a950e492048bd1862e2bf3ad:getPixels\n",
      "Please wait ...\n",
      "Data downloaded to C:\\Users\\edwin.hurtado\\Proyectos\\Universidad\\Maestria\\trozos\\SierraNevada\\landsat_pan2017-01-01_2018-01-01.tif\n",
      "Polygon coordinates >> [[[-75.41999999999999, 4.78], [-75.22, 4.78], [-75.22, 4.9799999999999995], [-75.41999999999999, 4.9799999999999995], [-75.41999999999999, 4.78]]]\n",
      "Generating URL ...\n",
      "Downloading data from https://earthengine.googleapis.com/v1alpha/projects/earthengine-legacy/thumbnails/35301e17215ce55f4c9be6ab08742976-b701573941c6068cb8a7bfbe7dd4d3d3:getPixels\n",
      "Please wait ...\n",
      "Data downloaded to C:\\Users\\edwin.hurtado\\Proyectos\\Universidad\\Maestria\\trozos\\SierraNevada\\landsat_multi2018-01-01_2019-01-01.tif\n",
      "Generating URL ...\n",
      "Downloading data from https://earthengine.googleapis.com/v1alpha/projects/earthengine-legacy/thumbnails/da9510ebc75b18af51c87caa7bcece81-9af3315c1416ab98b554b6a6d13b4d08:getPixels\n",
      "Please wait ...\n",
      "Data downloaded to C:\\Users\\edwin.hurtado\\Proyectos\\Universidad\\Maestria\\trozos\\SierraNevada\n",
      "Generating URL ...\n",
      "Downloading data from https://earthengine.googleapis.com/v1alpha/projects/earthengine-legacy/thumbnails/4845b025741d99a4f4cb1c164dffe0a1-0b1c6147ed6d648e3c825868f60564f9:getPixels\n",
      "Please wait ...\n",
      "Data downloaded to C:\\Users\\edwin.hurtado\\Proyectos\\Universidad\\Maestria\\trozos\\SierraNevada\\landsat_pan2018-01-01_2019-01-01.tif\n",
      "Polygon coordinates >> [[[-75.41999999999999, 4.78], [-75.22, 4.78], [-75.22, 4.9799999999999995], [-75.41999999999999, 4.9799999999999995], [-75.41999999999999, 4.78]]]\n",
      "Generating URL ...\n",
      "Downloading data from https://earthengine.googleapis.com/v1alpha/projects/earthengine-legacy/thumbnails/307bd31f036de7f1c235f247a3e23e0d-8a8fb165e186aae806b8d1e023a4ca0b:getPixels\n",
      "Please wait ...\n",
      "Data downloaded to C:\\Users\\edwin.hurtado\\Proyectos\\Universidad\\Maestria\\trozos\\SierraNevada\\landsat_multi2019-01-01_2020-01-01.tif\n",
      "Generating URL ...\n",
      "Downloading data from https://earthengine.googleapis.com/v1alpha/projects/earthengine-legacy/thumbnails/efe0e1d65f56826a68b10e385a5507b5-d823d8ab00f42446b855cbecaf596e9a:getPixels\n",
      "Please wait ...\n",
      "Data downloaded to C:\\Users\\edwin.hurtado\\Proyectos\\Universidad\\Maestria\\trozos\\SierraNevada\n",
      "Generating URL ...\n",
      "Downloading data from https://earthengine.googleapis.com/v1alpha/projects/earthengine-legacy/thumbnails/f434500ebf00be7ef167aec49e6f0a26-cff5ff86f5d290f92e30d1bbabd92577:getPixels\n",
      "Please wait ...\n",
      "Data downloaded to C:\\Users\\edwin.hurtado\\Proyectos\\Universidad\\Maestria\\trozos\\SierraNevada\\landsat_pan2019-01-01_2020-01-01.tif\n",
      "Polygon coordinates >> [[[-75.41999999999999, 4.78], [-75.22, 4.78], [-75.22, 4.9799999999999995], [-75.41999999999999, 4.9799999999999995], [-75.41999999999999, 4.78]]]\n"
     ]
    },
    {
     "name": "stdout",
     "output_type": "stream",
     "text": [
      "Generating URL ...\n",
      "Downloading data from https://earthengine.googleapis.com/v1alpha/projects/earthengine-legacy/thumbnails/2d4188c012f352cd2d04d308230c61ba-aa5ed5586ebf71e2d9723daa478b1d92:getPixels\n",
      "Please wait ...\n",
      "Data downloaded to C:\\Users\\edwin.hurtado\\Proyectos\\Universidad\\Maestria\\trozos\\SierraNevada\\landsat_multi2020-01-01_2021-01-01.tif\n",
      "Generating URL ...\n",
      "Downloading data from https://earthengine.googleapis.com/v1alpha/projects/earthengine-legacy/thumbnails/89d907bc8df8bbbf106ad5104114c314-7a8a4db6473757290e7196b7b896294e:getPixels\n",
      "Please wait ...\n",
      "Data downloaded to C:\\Users\\edwin.hurtado\\Proyectos\\Universidad\\Maestria\\trozos\\SierraNevada\n",
      "Generating URL ...\n",
      "Downloading data from https://earthengine.googleapis.com/v1alpha/projects/earthengine-legacy/thumbnails/df53840afe25b575e06bb7c3c75f16fb-3a7f54d61a73b063f6204c7912b47974:getPixels\n",
      "Please wait ...\n",
      "Data downloaded to C:\\Users\\edwin.hurtado\\Proyectos\\Universidad\\Maestria\\trozos\\SierraNevada\\landsat_pan2020-01-01_2021-01-01.tif\n"
     ]
    }
   ],
   "source": [
    "# ALGORITMO DE DESCARGA\n",
    "\n",
    "lon=-75.32;\n",
    "lat=4.88;\n",
    "\n",
    "dates = ['2013-01-01','2014-01-01','2015-01-01','2016-01-01','2017-01-01','2018-01-01','2019-01-01','2020-01-01','2021-01-01']\n",
    "\n",
    "point = ee.Geometry.Point(lon, lat);\n",
    "\n",
    "for i in range(len(dates)-1):\n",
    "\n",
    "    start = ee.Date(dates[i]);\n",
    "    finish = ee.Date(dates[i+1]);\n",
    "\n",
    "    # Filter a image from the landsat raw images collection, using bounds, date, and selecting the image with the least cloud cover\n",
    "    img = ee.ImageCollection('LANDSAT/LC08/C01/T1') \\\n",
    "                .filterBounds(point) \\\n",
    "                .filterDate(start, finish) \\\n",
    "                .sort('CLOUD_COVER', True) \\\n",
    "                .median()\n",
    "\n",
    "    # Select the corresponding bands for the multiespectral and panchromatic image\n",
    "    img_multi = img.select(['B4', 'B3', 'B2'])\n",
    "    img_pan = img.select(['B8'])\n",
    "\n",
    "    delta=0.1;\n",
    "\n",
    "    P1=[lon-delta, lat-delta];\n",
    "    P2=[lon+delta, lat+delta];\n",
    "\n",
    "\n",
    "    # feature to extract\n",
    "    roi = ee.Geometry.Rectangle([P1, P2]);\n",
    "\n",
    "    # add the polygon to the map\n",
    "    Map.addLayer(roi, {}, 'feature');\n",
    "    print('Polygon coordinates >>', roi.getInfo().get('coordinates'))\n",
    "\n",
    "    # Display the images on the map\n",
    "    Map.addLayer(img_multi)\n",
    "    Map.addLayer(img_pan)\n",
    "\n",
    "    # Center the map\n",
    "    Map.setCenter(lon, lat, 12)\n",
    "\n",
    "    out_dir = os.path.join(os.path.expanduser('~'), 'Proyectos/Universidad/Maestria/trozos/SierraNevada')\n",
    "    filename_xs = os.path.join(out_dir, 'landsat_multi'+dates[i]+\"_\"+dates[i+1]+'.tif')\n",
    "    filename_pan = os.path.join(out_dir, 'landsat_pan'+dates[i]+\"_\"+dates[i+1]+'.tif')\n",
    "\n",
    "    img_scale = 20\n",
    "    geemap.ee_export_image(img_multi, filename=filename_xs, scale = img_scale, region=roi, file_per_band=False)\n",
    "    geemap.ee_export_image(img_multi, filename=filename_xs, scale = img_scale, region=roi, file_per_band=True)\n",
    "    geemap.ee_export_image(img_pan, filename=filename_pan, scale = img_scale, region=roi, file_per_band=False)"
   ]
  },
  {
   "cell_type": "code",
   "execution_count": null,
   "metadata": {},
   "outputs": [],
   "source": []
  }
 ],
 "metadata": {
  "kernelspec": {
   "display_name": "Python 3",
   "language": "python",
   "name": "python3"
  },
  "language_info": {
   "codemirror_mode": {
    "name": "ipython",
    "version": 3
   },
   "file_extension": ".py",
   "mimetype": "text/x-python",
   "name": "python",
   "nbconvert_exporter": "python",
   "pygments_lexer": "ipython3",
   "version": "3.8.8"
  }
 },
 "nbformat": 4,
 "nbformat_minor": 4
}
