{
 "cells": [
  {
   "cell_type": "markdown",
   "metadata": {},
   "source": [
    "# Python libraries"
   ]
  },
  {
   "cell_type": "code",
   "execution_count": 1,
   "metadata": {},
   "outputs": [],
   "source": [
    "import ee\n",
    "import geemap\n",
    "import os\n",
    "import numpy as np\n",
    "import matplotlib.pyplot as plt"
   ]
  },
  {
   "cell_type": "markdown",
   "metadata": {},
   "source": [
    "# Display map\n",
    "To display the map the Map of geemap is used https://github.com/giswqs/geemap, which inherits from ipyleaft.Map https://ipyleaflet.readthedocs.io/en/latest/api_reference/map.html."
   ]
  },
  {
   "cell_type": "code",
   "execution_count": 2,
   "metadata": {
    "scrolled": true
   },
   "outputs": [
    {
     "data": {
      "application/vnd.jupyter.widget-view+json": {
       "model_id": "372a101e88594658b4da3cad324f04e4",
       "version_major": 2,
       "version_minor": 0
      },
      "text/plain": [
       "Map(center=[40, -100], controls=(WidgetControl(options=['position'], widget=HBox(children=(ToggleButton(value=…"
      ]
     },
     "metadata": {},
     "output_type": "display_data"
    }
   ],
   "source": [
    "Map = geemap.Map()\n",
    "Map"
   ]
  },
  {
   "cell_type": "markdown",
   "metadata": {},
   "source": [
    "# Load Landsat 8 image\n",
    "To load a the image from Landsat 8, a image from Google Earth Engine Data Catalog is filtered https://developers.google.com/earth-engine/datasets/catalog/landsat-8/ and displayed on the interactive map."
   ]
  },
  {
   "cell_type": "code",
   "execution_count": 26,
   "metadata": {
    "scrolled": true
   },
   "outputs": [
    {
     "name": "stdout",
     "output_type": "stream",
     "text": [
      "Count:  2\n",
      "\n"
     ]
    }
   ],
   "source": [
    "lon=-75.38;\n",
    "lat=4.89;\n",
    "\n",
    "point = ee.Geometry.Point(lon, lat);\n",
    "start = ee.Date('2021-04-01');\n",
    "finish = ee.Date('2021-04-30');\n",
    "\n",
    "# Brings all images betwwen dates\n",
    "imgs = ee.ImageCollection('LANDSAT/LC08/C01/T1') \\\n",
    "            .filterBounds(point) \\\n",
    "            .filterDate(start, finish)\n",
    "\n",
    "count = imgs.size()\n",
    "print('Count: ', str(count.getInfo())+'\\n')\n",
    "\n",
    "img = ee.ImageCollection('LANDSAT/LC08/C01/T1') \\\n",
    "            .filterBounds(point) \\\n",
    "            .filterDate(start, finish) \\\n",
    "            .sort('CLOUD_COVER', True) \\\n",
    "            .first()\n",
    "\n",
    "# Filter a image from the landsat raw images collection, using bounds, date, and selecting the image with the least cloud cover\n",
    "img = ee.ImageCollection('LANDSAT/LC08/C01/T1') \\\n",
    "            .filterBounds(point) \\\n",
    "            .filterDate(start, finish) \\\n",
    "            .sort('CLOUD_COVER', True) \\\n",
    "            .first()\n",
    "\n",
    "# Select the corresponding bands for the multiespectral and panchromatic image\n",
    "img_multi = img.select(['B4', 'B3', 'B2'])\n",
    "img_pan = img.select(['B8'])\n",
    "\n",
    "# Display the images on the map\n",
    "Map.addLayer(img_multi)\n",
    "Map.addLayer(img_pan)\n",
    "\n",
    "# Center the map\n",
    "Map.setCenter(lon, lat, 11)\n"
   ]
  },
  {
   "cell_type": "markdown",
   "metadata": {},
   "source": [
    "# B. Select a roi using the coordinates\n",
    "Instead of drawing the rectangle, you can select an area by drawing a polygon using the GeoJson convention https://tools.ietf.org/html/rfc7946#section-3.1.6. There is a polygon drawn by default."
   ]
  },
  {
   "cell_type": "code",
   "execution_count": 7,
   "metadata": {},
   "outputs": [
    {
     "name": "stdout",
     "output_type": "stream",
     "text": [
      "Polygon coordinates >> [[[-75.47, 4.82], [-75.19999999999999, 4.82], [-75.19999999999999, 5.09], [-75.47, 5.09], [-75.47, 4.82]]]\n"
     ]
    }
   ],
   "source": [
    "delta=0.09;\n",
    "\n",
    "cenLon=-75.38\n",
    "cenLat=5;\n",
    "\n",
    "P1=[cenLon-delta, cenLat-2*delta];\n",
    "P2=[cenLon+2*delta, cenLat+delta];\n",
    "\n",
    "\n",
    "# feature to extract\n",
    "roi = ee.Geometry.Rectangle([P1, P2]);\n",
    "\n",
    "# add the polygon to the map\n",
    "Map.addLayer(roi, {}, 'feature');\n",
    "print('Polygon coordinates >>', roi.getInfo().get('coordinates'))"
   ]
  },
  {
   "cell_type": "markdown",
   "metadata": {},
   "source": [
    "# Download the roi as a TIFF file\n",
    "The next block generates the path to store the TIFF."
   ]
  },
  {
   "cell_type": "code",
   "execution_count": 9,
   "metadata": {},
   "outputs": [
    {
     "name": "stdout",
     "output_type": "stream",
     "text": [
      "/home/thaednevol/Proyectos/Universidad/trozos/NevadoDelRuiz/landsat_multi_NEVADO.tif\n"
     ]
    }
   ],
   "source": [
    "out_dir = os.path.join(os.path.expanduser('~'), 'Proyectos/Universidad/trozos/NevadoDelRuiz/')\n",
    "filename_xs = os.path.join(out_dir, 'landsat_multi_NEVADO.tif')\n",
    "filename_pan = os.path.join(out_dir, 'landsat_pan_NEVADO.tif')\n",
    "\n",
    "print(filename_xs)"
   ]
  },
  {
   "cell_type": "markdown",
   "metadata": {},
   "source": [
    "### Download as raw images without resizing"
   ]
  },
  {
   "cell_type": "markdown",
   "metadata": {},
   "source": [
    "* A TIFF file including all bands"
   ]
  },
  {
   "cell_type": "code",
   "execution_count": 11,
   "metadata": {},
   "outputs": [
    {
     "name": "stdout",
     "output_type": "stream",
     "text": [
      "Generating URL ...\n",
      "Downloading data from https://earthengine.googleapis.com/v1alpha/projects/earthengine-legacy/thumbnails/6b3e64b4c49a9ad6b731c115b33b7e67-f34d98ec81583b78961d78856690fc03:getPixels\n",
      "Please wait ...\n",
      "Data downloaded to /home/thaednevol/Proyectos/Universidad/trozos/NevadoDelRuiz/landsat_multi_NEVADO.tif\n",
      "Generating URL ...\n",
      "Downloading data from https://earthengine.googleapis.com/v1alpha/projects/earthengine-legacy/thumbnails/fd52cfea8435062e5dbea1ae8ce3acda-93fba336fc623a99046e896658843a6d:getPixels\n",
      "Please wait ...\n",
      "Data downloaded to /home/thaednevol/Proyectos/Universidad/trozos/NevadoDelRuiz/landsat_pan_NEVADO.tif\n",
      "Generating URL ...\n",
      "Downloading data from https://earthengine.googleapis.com/v1alpha/projects/earthengine-legacy/thumbnails/71081bda4d9b79d0916be1dce26aa0ad-44aacce621dbd0cf116584c1f7afdcec:getPixels\n",
      "Please wait ...\n",
      "Data downloaded to /home/thaednevol/Proyectos/Universidad/trozos/NevadoDelRuiz\n",
      "Generating URL ...\n",
      "Downloading data from https://earthengine.googleapis.com/v1alpha/projects/earthengine-legacy/thumbnails/b646b9c8c6abf69f1e23559831dfdf08-7135347da6b88dd0d350da7ac57b9f5e:getPixels\n",
      "Please wait ...\n",
      "Data downloaded to /home/thaednevol/Proyectos/Universidad/trozos/NevadoDelRuiz\n"
     ]
    }
   ],
   "source": [
    "img_scale = 14\n",
    "\n",
    "geemap.ee_export_image(img_multi, filename=filename_xs, region=roi, scale = img_scale, file_per_band=False)\n",
    "geemap.ee_export_image(img_pan, filename=filename_pan, region=roi, scale = img_scale, file_per_band=False)\n",
    "\n",
    "geemap.ee_export_image(img_multi, filename=filename_xs, scale = img_scale, region=roi, file_per_band=True)\n",
    "geemap.ee_export_image(img_pan, filename=filename_pan, scale = img_scale, region=roi, file_per_band=True)"
   ]
  },
  {
   "cell_type": "markdown",
   "metadata": {},
   "source": [
    "* A TIFF file for each band"
   ]
  },
  {
   "cell_type": "code",
   "execution_count": null,
   "metadata": {},
   "outputs": [],
   "source": [
    "geemap.ee_export_image(img_multi, filename=filename_xs, region=roi, file_per_band=True)\n",
    "geemap.ee_export_image(img_pan, filename=filename_pan, region=roi, file_per_band=False)"
   ]
  },
  {
   "cell_type": "markdown",
   "metadata": {},
   "source": [
    "### Download resized images"
   ]
  },
  {
   "cell_type": "markdown",
   "metadata": {},
   "source": [
    "* A TIFF file including all bands"
   ]
  },
  {
   "cell_type": "code",
   "execution_count": null,
   "metadata": {},
   "outputs": [],
   "source": [
    "# Set the image scale meters, 150 means 15 meters of resolution, change to the convenient value\n",
    "img_scale = 10\n",
    "geemap.ee_export_image(img_multi, filename=filename_xs, scale = img_scale, region=roi, file_per_band=False)\n",
    "geemap.ee_export_image(img_pan, filename=filename_pan, scale = img_scale, region=roi, file_per_band=False)"
   ]
  },
  {
   "cell_type": "markdown",
   "metadata": {},
   "source": [
    "* A TIFF file for each band (This option is recommended to proceed with the pansharpening module)"
   ]
  },
  {
   "cell_type": "code",
   "execution_count": null,
   "metadata": {},
   "outputs": [],
   "source": [
    "# Set the image scale meters, 150 means 15 meters of resolution, change to the convenient value\n",
    "img_scale = 10\n",
    "geemap.ee_export_image(img_multi, filename=filename_xs, scale = img_scale, region=roi, file_per_band=True)\n",
    "geemap.ee_export_image(img_pan, filename=filename_pan, scale = img_scale, region=roi, file_per_band=False)"
   ]
  },
  {
   "cell_type": "code",
   "execution_count": null,
   "metadata": {},
   "outputs": [],
   "source": [
    "dates = ['2013-01-01', '2013-04-01', '2013-06-01', '2013-09-01', '2013-01-01',\n",
    "         '2014-01-01',\n",
    "         '2015-01-01',\n",
    "         '2016-01-01',\n",
    "         '2017-01-01',\n",
    "         '2018-01-01',\n",
    "         '2019-01-01',\n",
    "         '2020-01-01',\n",
    "         '2021-01-01']\n",
    "\n",
    "for i in range(len(dates)-1):\n",
    "\n",
    "    start = ee.Date(dates[i]);\n",
    "    finish = ee.Date(dates[i+1]);"
   ]
  },
  {
   "cell_type": "raw",
   "metadata": {},
   "source": []
  },
  {
   "cell_type": "code",
   "execution_count": null,
   "metadata": {},
   "outputs": [],
   "source": [
    "# ALGORITMO DE DESCARGA\n",
    "\n",
    "lon=-75.32;\n",
    "lat=4.88;\n",
    "\n",
    "dates = ['2013-01-01', '2013-04-01', '2013-06-01', '2013-09-01', '2013-01-01',\n",
    "         '2014-01-01',\n",
    "         '2015-01-01',\n",
    "         '2016-01-01',\n",
    "         '2017-01-01',\n",
    "         '2018-01-01',\n",
    "         '2019-01-01',\n",
    "         '2020-01-01',\n",
    "         '2021-01-01']\n",
    "\n",
    "point = ee.Geometry.Point(lon, lat);\n",
    "\n",
    "for i in range(len(dates)-1):\n",
    "\n",
    "    start = ee.Date(dates[i]);\n",
    "    finish = ee.Date(dates[i+1]);\n",
    "\n",
    "    # Filter a image from the landsat raw images collection, using bounds, date, and selecting the image with the least cloud cover\n",
    "    img = ee.ImageCollection('LANDSAT/LC08/C01/T1') \\\n",
    "                .filterBounds(point) \\\n",
    "                .filterDate(start, finish) \\\n",
    "                .sort('CLOUD_COVER', True) \\\n",
    "                .first()\n",
    "\n",
    "    # Select the corresponding bands for the multiespectral and panchromatic image\n",
    "    img_multi = img.select(['B4', 'B3', 'B2'])\n",
    "    img_pan = img.select(['B8'])\n",
    "\n",
    "    delta=0.1;\n",
    "\n",
    "    P1=[lon-delta, lat-delta];\n",
    "    P2=[lon+delta, lat+delta];\n",
    "\n",
    "\n",
    "    # feature to extract\n",
    "    roi = ee.Geometry.Rectangle([P1, P2]);\n",
    "\n",
    "    # add the polygon to the map\n",
    "    Map.addLayer(roi, {}, 'feature');\n",
    "    print('Polygon coordinates >>', roi.getInfo().get('coordinates'))\n",
    "\n",
    "    # Display the images on the map\n",
    "    Map.addLayer(img_multi)\n",
    "    Map.addLayer(img_pan)\n",
    "\n",
    "    # Center the map\n",
    "    Map.setCenter(lon, lat, 12)\n",
    "\n",
    "    out_dir = os.path.join(os.path.expanduser('~'), 'Proyectos/Universidad/Maestria/trozos/SierraNevada')\n",
    "    filename_xs = os.path.join(out_dir, 'landsat_multi'+dates[i]+\"_\"+dates[i+1]+'.tif')\n",
    "    filename_pan = os.path.join(out_dir, 'landsat_pan'+dates[i]+\"_\"+dates[i+1]+'.tif')\n",
    "\n",
    "    img_scale = 20\n",
    "    geemap.ee_export_image(img_multi, filename=filename_xs, scale = img_scale, region=roi, file_per_band=False)\n",
    "    geemap.ee_export_image(img_multi, filename=filename_xs, scale = img_scale, region=roi, file_per_band=True)\n",
    "    geemap.ee_export_image(img_pan, filename=filename_pan, scale = img_scale, region=roi, file_per_band=False)"
   ]
  },
  {
   "cell_type": "code",
   "execution_count": null,
   "metadata": {},
   "outputs": [],
   "source": []
  }
 ],
 "metadata": {
  "kernelspec": {
   "display_name": "Python 3",
   "language": "python",
   "name": "python3"
  },
  "language_info": {
   "codemirror_mode": {
    "name": "ipython",
    "version": 3
   },
   "file_extension": ".py",
   "mimetype": "text/x-python",
   "name": "python",
   "nbconvert_exporter": "python",
   "pygments_lexer": "ipython3",
   "version": "3.8.3"
  }
 },
 "nbformat": 4,
 "nbformat_minor": 4
}
