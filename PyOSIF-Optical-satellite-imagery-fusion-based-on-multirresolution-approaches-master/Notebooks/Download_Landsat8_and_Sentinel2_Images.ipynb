{
 "cells": [
  {
   "cell_type": "markdown",
   "metadata": {},
   "source": [
    "# Python libraries"
   ]
  },
  {
   "cell_type": "code",
   "execution_count": 1,
   "metadata": {},
   "outputs": [],
   "source": [
    "import ee\n",
    "import geemap\n",
    "import os\n",
    "import numpy as np\n",
    "import matplotlib.pyplot as plt"
   ]
  },
  {
   "cell_type": "markdown",
   "metadata": {},
   "source": [
    "# Display map\n",
    "To display the map the Map of geemap is used https://github.com/giswqs/geemap, which inherits from ipyleaft.Map https://ipyleaflet.readthedocs.io/en/latest/api_reference/map.html."
   ]
  },
  {
   "cell_type": "code",
   "execution_count": 2,
   "metadata": {
    "scrolled": false
   },
   "outputs": [
    {
     "data": {
      "application/vnd.jupyter.widget-view+json": {
       "model_id": "6b0bce74dac344899f99b447be32b1e4",
       "version_major": 2,
       "version_minor": 0
      },
      "text/plain": [
       "Map(center=[40, -100], controls=(WidgetControl(options=['position'], widget=HBox(children=(ToggleButton(value=…"
      ]
     },
     "metadata": {},
     "output_type": "display_data"
    }
   ],
   "source": [
    "Map = geemap.Map()\n",
    "Map"
   ]
  },
  {
   "cell_type": "markdown",
   "metadata": {},
   "source": [
    "# Load Landsat 8 and Sentinel 2 images\n",
    "To load the images of Landsat 8 and Sentinel 2, both images are selected from the Google Earth Engine Data Catalog and filtered to be on the same spot https://developers.google.com/earth-engine/datasets and displayed on the interactive map."
   ]
  },
  {
   "cell_type": "code",
   "execution_count": 3,
   "metadata": {
    "scrolled": true
   },
   "outputs": [],
   "source": [
    "point = ee.Geometry.Point(-3.83502, 40.40595);\n",
    "start = ee.Date('2019-07-01');\n",
    "finish = ee.Date('2019-07-31');\n",
    "\n",
    "# Filter a image from the Sentinel 2 surface reflectance collection, using bounds, date, and selecting the image with the least cloud cover\n",
    "img_sentinel = ee.ImageCollection(\"COPERNICUS/S2_SR\") \\\n",
    "            .filterBounds(point) \\\n",
    "            .filterDate(start, finish) \\\n",
    "            .sort('CLOUD_COVER', True) \\\n",
    "            .first()\n",
    "\n",
    "# Select the corresponding bands for the multiespectral image\n",
    "img_sentinel_multi = img_sentinel.select(['B4', 'B3', 'B2'])\n",
    "\n",
    "# Filter a image from the Landsat 8 surface reflectance collection, using the same bounds, date, and selecting the image with the least cloud cover\n",
    "img_landsat = ee.ImageCollection(\"LANDSAT/LC08/C01/T1_SR\") \\\n",
    "            .filterBounds(point) \\\n",
    "            .filterDate(start, finish) \\\n",
    "            .sort('CLOUD_COVER', True) \\\n",
    "            .first()\n",
    "\n",
    "# Select the corresponding bands for the multiespectral image\n",
    "img_landsat_multi = img_landsat.select(['B4', 'B3', 'B2'])\n",
    "\n",
    "# Display the images on the map\n",
    "Map.addLayer(img_sentinel_multi)\n",
    "Map.addLayer(img_landsat_multi)\n",
    "\n",
    "# Center the map\n",
    "Map.setCenter(-3.83502, 40.40595, 8)"
   ]
  },
  {
   "cell_type": "markdown",
   "metadata": {},
   "source": [
    "# A. Select a region of interest (roi) using the map tools\n",
    "Using the tools row placed on the left of the map, draw a rectangle inside of the images, make sure it is inside of the Sentinel 2 image bounds. This rectangle will be the region of interest."
   ]
  },
  {
   "cell_type": "code",
   "execution_count": null,
   "metadata": {},
   "outputs": [],
   "source": [
    "# feature to extract\n",
    "feature = Map.draw_last_feature\n",
    "roi = feature.geometry()\n",
    "\n",
    "print('Polygon coordinates >>', roi.getInfo().get('coordinates'))"
   ]
  },
  {
   "cell_type": "markdown",
   "metadata": {},
   "source": [
    "# B. Select a roi using the coordinates\n",
    "Instead of drawing the rectangle, you can select an area by drawing a polygon using coordinates acording to the GeoJson convention https://tools.ietf.org/html/rfc7946#section-3.1.6. There is a polygon drawn by default."
   ]
  },
  {
   "cell_type": "code",
   "execution_count": 4,
   "metadata": {},
   "outputs": [
    {
     "name": "stdout",
     "output_type": "stream",
     "text": [
      "Polygon coordinates >> [[[-4.097401, 40.388201], [-3.465607, 40.388201], [-3.465607, 40.572045], [-4.097401, 40.572045], [-4.097401, 40.388201]]]\n"
     ]
    }
   ],
   "source": [
    "roi = ee.Geometry.Polygon([\n",
    "  [[-4.097401, 40.388201], [-4.097401, 40.572045], [-3.465607, 40.572045], [-3.465607, 40.388201], [-4.097401, 40.388201]]\n",
    "]);\n",
    "Map.addLayer(roi, {}, 'feature');\n",
    "\n",
    "print('Polygon coordinates >>', roi.getInfo().get('coordinates'))"
   ]
  },
  {
   "cell_type": "markdown",
   "metadata": {},
   "source": [
    "# Download the roi as a TIFF file\n",
    "To fuse the Landsat 8 and Sentinel 2 images, you must download the files using the second option \"A TIFF file for each band\", then reescale the Landsat 8 using the **Resizing_Module**. Resizing the TIFF file using Google Earth Engine, leads up to errors due to the datatype. Thus, downloading the image resized is not recommended.\n",
    "\n",
    "The next block generates the path to store the TIFF."
   ]
  },
  {
   "cell_type": "code",
   "execution_count": 5,
   "metadata": {},
   "outputs": [],
   "source": [
    "out_dir = os.path.join(os.path.expanduser('~'), 'Downloads')\n",
    "filename_sentinel_xs = os.path.join(out_dir, 'sentinel_multi_sr.tif')\n",
    "filename_landsat_xs = os.path.join(out_dir, 'landsat_multi_sr.tif')"
   ]
  },
  {
   "cell_type": "markdown",
   "metadata": {},
   "source": [
    "### Download as raw images without resizing"
   ]
  },
  {
   "cell_type": "markdown",
   "metadata": {},
   "source": [
    "* A TIFF file including all bands"
   ]
  },
  {
   "cell_type": "code",
   "execution_count": null,
   "metadata": {},
   "outputs": [],
   "source": [
    "geemap.ee_export_image(img_sentinel_multi, filename=filename_sentinel_xs, region=roi, file_per_band=False)\n",
    "geemap.ee_export_image(img_landsat_multi, filename=filename_landsat_xs, region=roi, file_per_band=False)"
   ]
  },
  {
   "cell_type": "markdown",
   "metadata": {},
   "source": [
    "* A TIFF file for each band"
   ]
  },
  {
   "cell_type": "code",
   "execution_count": 6,
   "metadata": {},
   "outputs": [
    {
     "name": "stdout",
     "output_type": "stream",
     "text": [
      "Generating URL ...\n",
      "Downloading data from https://earthengine.googleapis.com/v1alpha/projects/earthengine-legacy/thumbnails/df6a4f242e0d86b6752e144a272fd175-2792ce025af5b5f3f2deaadda8b2ef78:getPixels\n",
      "Please wait ...\n",
      "[WinError 32] El proceso no tiene acceso al archivo porque está siendo utilizado por otro proceso: 'C:\\\\Users\\\\Jiahao\\\\Downloads\\\\sentinel_multi_sr.zip'\n",
      "Generating URL ...\n",
      "Downloading data from https://earthengine.googleapis.com/v1alpha/projects/earthengine-legacy/thumbnails/ef877e7d0e852f5f45c15a6cf750ab87-fd5522d5080f52338a4d941157563596:getPixels\n",
      "Please wait ...\n",
      "[WinError 32] El proceso no tiene acceso al archivo porque está siendo utilizado por otro proceso: 'C:\\\\Users\\\\Jiahao\\\\Downloads\\\\landsat_multi_sr.zip'\n"
     ]
    }
   ],
   "source": [
    "geemap.ee_export_image(img_sentinel_multi, filename=filename_sentinel_xs, region=roi, file_per_band=True)\n",
    "geemap.ee_export_image(img_landsat_multi, filename=filename_landsat_xs, region=roi, file_per_band=True)"
   ]
  },
  {
   "cell_type": "code",
   "execution_count": null,
   "metadata": {},
   "outputs": [],
   "source": []
  }
 ],
 "metadata": {
  "kernelspec": {
   "display_name": "Python 3",
   "language": "python",
   "name": "python3"
  },
  "language_info": {
   "codemirror_mode": {
    "name": "ipython",
    "version": 3
   },
   "file_extension": ".py",
   "mimetype": "text/x-python",
   "name": "python",
   "nbconvert_exporter": "python",
   "pygments_lexer": "ipython3",
   "version": "3.8.2"
  }
 },
 "nbformat": 4,
 "nbformat_minor": 4
}
