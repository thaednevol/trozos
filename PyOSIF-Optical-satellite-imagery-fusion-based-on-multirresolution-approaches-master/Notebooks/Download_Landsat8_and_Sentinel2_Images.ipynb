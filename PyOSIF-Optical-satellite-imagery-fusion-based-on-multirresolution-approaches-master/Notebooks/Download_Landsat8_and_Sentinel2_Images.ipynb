{
 "cells": [
  {
   "cell_type": "markdown",
   "metadata": {},
   "source": [
    "# Python libraries"
   ]
  },
  {
   "cell_type": "code",
   "execution_count": 14,
   "metadata": {},
   "outputs": [],
   "source": [
    "import ee\n",
    "import geemap\n",
    "import os\n",
    "import numpy as np\n",
    "import matplotlib.pyplot as plt"
   ]
  },
  {
   "cell_type": "markdown",
   "metadata": {},
   "source": [
    "# Display map\n",
    "To display the map the Map of geemap is used https://github.com/giswqs/geemap, which inherits from ipyleaft.Map https://ipyleaflet.readthedocs.io/en/latest/api_reference/map.html."
   ]
  },
  {
   "cell_type": "code",
   "execution_count": 15,
   "metadata": {
    "scrolled": true
   },
   "outputs": [],
   "source": [
    "#ee.Authenticate()"
   ]
  },
  {
   "cell_type": "code",
   "execution_count": 16,
   "metadata": {
    "scrolled": false
   },
   "outputs": [
    {
     "data": {
      "application/vnd.jupyter.widget-view+json": {
       "model_id": "1524212719b14c758d7badfb6c08c471",
       "version_major": 2,
       "version_minor": 0
      },
      "text/plain": [
       "Map(center=[40, -100], controls=(WidgetControl(options=['position'], widget=HBox(children=(ToggleButton(value=…"
      ]
     },
     "metadata": {},
     "output_type": "display_data"
    }
   ],
   "source": [
    "Map = geemap.Map()\n",
    "Map"
   ]
  },
  {
   "cell_type": "markdown",
   "metadata": {},
   "source": [
    "# Load Landsat 8 and Sentinel 2 images\n",
    "To load the images of Landsat 8 and Sentinel 2, both images are selected from the Google Earth Engine Data Catalog and filtered to be on the same spot https://developers.google.com/earth-engine/datasets and displayed on the interactive map."
   ]
  },
  {
   "cell_type": "code",
   "execution_count": 17,
   "metadata": {
    "scrolled": true
   },
   "outputs": [],
   "source": [
    "lon=-75.38;\n",
    "lat=4.89;\n",
    "\n",
    "#point = ee.Geometry.Point(-3.83502, 40.40595);\n",
    "point = ee.Geometry.Point(lon, lat);\n",
    "start = ee.Date('2019-07-01');\n",
    "finish = ee.Date('2019-07-31');\n",
    "\n",
    "# Filter a image from the Sentinel 2 surface reflectance collection, using bounds, date, and selecting the image with the least cloud cover\n",
    "img_sentinel = ee.ImageCollection(\"COPERNICUS/S2_SR\") \\\n",
    "            .filterBounds(point) \\\n",
    "            .filterDate(start, finish) \\\n",
    "            .sort('CLOUD_COVER', True) \\\n",
    "            .first()\n",
    "\n",
    "# Select the corresponding bands for the multiespectral image\n",
    "img_sentinel_multi = img_sentinel.select(['B4', 'B3', 'B2'])\n",
    "\n",
    "# Filter a image from the Landsat 8 surface reflectance collection, using the same bounds, date, and selecting the image with the least cloud cover\n",
    "img_landsat = ee.ImageCollection(\"LANDSAT/LC08/C01/T1_SR\") \\\n",
    "            .filterBounds(point) \\\n",
    "            .filterDate(start, finish) \\\n",
    "            .sort('CLOUD_COVER', True) \\\n",
    "            .first()\n",
    "\n",
    "# Select the corresponding bands for the multiespectral image\n",
    "img_landsat_multi = img_landsat.select(['B4', 'B3', 'B2'])\n",
    "\n",
    "# Display the images on the map\n",
    "Map.addLayer(img_sentinel_multi)\n",
    "Map.addLayer(img_landsat_multi)\n",
    "\n",
    "# Center the map\n",
    "Map.setCenter(lon, lat, 8)"
   ]
  },
  {
   "cell_type": "markdown",
   "metadata": {},
   "source": [
    "# A. Select a region of interest (roi) using the map tools\n",
    "Using the tools row placed on the left of the map, draw a rectangle inside of the images, make sure it is inside of the Sentinel 2 image bounds. This rectangle will be the region of interest."
   ]
  },
  {
   "cell_type": "code",
   "execution_count": 18,
   "metadata": {},
   "outputs": [
    {
     "ename": "AttributeError",
     "evalue": "'NoneType' object has no attribute 'geometry'",
     "output_type": "error",
     "traceback": [
      "\u001b[0;31m---------------------------------------------------------------------------\u001b[0m",
      "\u001b[0;31mAttributeError\u001b[0m                            Traceback (most recent call last)",
      "\u001b[0;32m<ipython-input-18-271ad7a5b66d>\u001b[0m in \u001b[0;36m<module>\u001b[0;34m\u001b[0m\n\u001b[1;32m      1\u001b[0m \u001b[0;31m# feature to extract\u001b[0m\u001b[0;34m\u001b[0m\u001b[0;34m\u001b[0m\u001b[0;34m\u001b[0m\u001b[0m\n\u001b[1;32m      2\u001b[0m \u001b[0mfeature\u001b[0m \u001b[0;34m=\u001b[0m \u001b[0mMap\u001b[0m\u001b[0;34m.\u001b[0m\u001b[0mdraw_last_feature\u001b[0m\u001b[0;34m\u001b[0m\u001b[0;34m\u001b[0m\u001b[0m\n\u001b[0;32m----> 3\u001b[0;31m \u001b[0mroi\u001b[0m \u001b[0;34m=\u001b[0m \u001b[0mfeature\u001b[0m\u001b[0;34m.\u001b[0m\u001b[0mgeometry\u001b[0m\u001b[0;34m(\u001b[0m\u001b[0;34m)\u001b[0m\u001b[0;34m\u001b[0m\u001b[0;34m\u001b[0m\u001b[0m\n\u001b[0m\u001b[1;32m      4\u001b[0m \u001b[0;34m\u001b[0m\u001b[0m\n\u001b[1;32m      5\u001b[0m \u001b[0mprint\u001b[0m\u001b[0;34m(\u001b[0m\u001b[0;34m'Polygon coordinates >>'\u001b[0m\u001b[0;34m,\u001b[0m \u001b[0mroi\u001b[0m\u001b[0;34m.\u001b[0m\u001b[0mgetInfo\u001b[0m\u001b[0;34m(\u001b[0m\u001b[0;34m)\u001b[0m\u001b[0;34m.\u001b[0m\u001b[0mget\u001b[0m\u001b[0;34m(\u001b[0m\u001b[0;34m'coordinates'\u001b[0m\u001b[0;34m)\u001b[0m\u001b[0;34m)\u001b[0m\u001b[0;34m\u001b[0m\u001b[0;34m\u001b[0m\u001b[0m\n",
      "\u001b[0;31mAttributeError\u001b[0m: 'NoneType' object has no attribute 'geometry'"
     ]
    }
   ],
   "source": [
    "# feature to extract\n",
    "feature = Map.draw_last_feature\n",
    "roi = feature.geometry()\n",
    "\n",
    "print('Polygon coordinates >>', roi.getInfo().get('coordinates'))"
   ]
  },
  {
   "cell_type": "markdown",
   "metadata": {},
   "source": [
    "# B. Select a roi using the coordinates\n",
    "Instead of drawing the rectangle, you can select an area by drawing a polygon using coordinates acording to the GeoJson convention https://tools.ietf.org/html/rfc7946#section-3.1.6. There is a polygon drawn by default."
   ]
  },
  {
   "cell_type": "code",
   "execution_count": 22,
   "metadata": {},
   "outputs": [
    {
     "name": "stdout",
     "output_type": "stream",
     "text": [
      "Polygon coordinates >> [[[-4.097401, 40.388201], [-3.465607, 40.388201], [-3.465607, 40.572045], [-4.097401, 40.572045], [-4.097401, 40.388201]]]\n",
      "Polygon coordinates >> [[[-76.28, 3.9899999999999998], [-74.47999999999999, 3.9899999999999998], [-74.47999999999999, 5.79], [-76.28, 5.79], [-76.28, 3.9899999999999998]]]\n"
     ]
    }
   ],
   "source": [
    "roi = ee.Geometry.Polygon([\n",
    "  [[-4.097401, 40.388201], [-4.097401, 40.572045], [-3.465607, 40.572045], [-3.465607, 40.388201], [-4.097401, 40.388201]]\n",
    "]);\n",
    "Map.addLayer(roi, {}, 'feature');\n",
    "\n",
    "print('Polygon coordinates >>', roi.getInfo().get('coordinates'))\n",
    "\n",
    "delta=0.9;\n",
    "\n",
    "P1=[lon-delta, lat-delta];\n",
    "P2=[lon+delta, lat+delta];\n",
    "\n",
    "\n",
    "# feature to extract\n",
    "roi = ee.Geometry.Rectangle([P1, P2]);\n",
    "\n",
    "# add the polygon to the map\n",
    "Map.addLayer(roi, {}, 'feature');\n",
    "print('Polygon coordinates >>', roi.getInfo().get('coordinates'))"
   ]
  },
  {
   "cell_type": "markdown",
   "metadata": {},
   "source": [
    "# Download the roi as a TIFF file\n",
    "To fuse the Landsat 8 and Sentinel 2 images, you must download the files using the second option \"A TIFF file for each band\", then reescale the Landsat 8 using the **Resizing_Module**. Resizing the TIFF file using Google Earth Engine, leads up to errors due to the datatype. Thus, downloading the image resized is not recommended.\n",
    "\n",
    "The next block generates the path to store the TIFF."
   ]
  },
  {
   "cell_type": "code",
   "execution_count": 23,
   "metadata": {},
   "outputs": [],
   "source": [
    "out_dir = os.path.join(os.path.expanduser('~'), 'Downloads')\n",
    "filename_sentinel_xs = os.path.join(out_dir, 'sentinel_multi_sr.tif')\n",
    "filename_landsat_xs = os.path.join(out_dir, 'landsat_multi_sr.tif')"
   ]
  },
  {
   "cell_type": "markdown",
   "metadata": {},
   "source": [
    "### Download as raw images without resizing"
   ]
  },
  {
   "cell_type": "markdown",
   "metadata": {},
   "source": [
    "* A TIFF file including all bands"
   ]
  },
  {
   "cell_type": "code",
   "execution_count": 24,
   "metadata": {},
   "outputs": [
    {
     "name": "stdout",
     "output_type": "stream",
     "text": [
      "Generating URL ...\n",
      "Downloading data from https://earthengine.googleapis.com/v1alpha/projects/earthengine-legacy/thumbnails/8465a8dc0cbb7988fb12a986f7cb3351-73c1e7b5ace2c6ff53f2fa72a2146b3c:getPixels\n",
      "Please wait ...\n",
      "Data downloaded to /home/thaednevol/Downloads/sentinel_multi_sr.tif\n",
      "Generating URL ...\n",
      "Downloading data from https://earthengine.googleapis.com/v1alpha/projects/earthengine-legacy/thumbnails/6cdaa8d823a172778123d8162fdf172b-9b833041469b5a13db4cbda55716ff26:getPixels\n",
      "Please wait ...\n",
      "Data downloaded to /home/thaednevol/Downloads/landsat_multi_sr.tif\n"
     ]
    }
   ],
   "source": [
    "geemap.ee_export_image(img_sentinel_multi, filename=filename_sentinel_xs, region=roi, file_per_band=False)\n",
    "geemap.ee_export_image(img_landsat_multi, filename=filename_landsat_xs, region=roi, file_per_band=False)"
   ]
  },
  {
   "cell_type": "markdown",
   "metadata": {},
   "source": [
    "* A TIFF file for each band"
   ]
  },
  {
   "cell_type": "code",
   "execution_count": null,
   "metadata": {},
   "outputs": [
    {
     "name": "stdout",
     "output_type": "stream",
     "text": [
      "Generating URL ...\n",
      "Downloading data from https://earthengine.googleapis.com/v1alpha/projects/earthengine-legacy/thumbnails/f82cbe0f6190941cf54bcb99b741f593-d72f75e926338383a35ab0cb183b3120:getPixels\n",
      "Please wait ...\n",
      "[WinError 32] El proceso no tiene acceso al archivo porque está siendo utilizado por otro proceso: 'C:\\\\Users\\\\Edwin Hurtado\\\\Downloads\\\\sentinel_multi_sr.zip'\n",
      "Generating URL ...\n"
     ]
    }
   ],
   "source": [
    "geemap.ee_export_image(img_sentinel_multi, filename=filename_sentinel_xs, region=roi, file_per_band=True)\n",
    "geemap.ee_export_image(img_landsat_multi, filename=filename_landsat_xs, region=roi, file_per_band=True)"
   ]
  },
  {
   "cell_type": "code",
   "execution_count": null,
   "metadata": {},
   "outputs": [],
   "source": []
  }
 ],
 "metadata": {
  "kernelspec": {
   "display_name": "Python 3",
   "language": "python",
   "name": "python3"
  },
  "language_info": {
   "codemirror_mode": {
    "name": "ipython",
    "version": 3
   },
   "file_extension": ".py",
   "mimetype": "text/x-python",
   "name": "python",
   "nbconvert_exporter": "python",
   "pygments_lexer": "ipython3",
   "version": "3.8.3"
  }
 },
 "nbformat": 4,
 "nbformat_minor": 4
}
