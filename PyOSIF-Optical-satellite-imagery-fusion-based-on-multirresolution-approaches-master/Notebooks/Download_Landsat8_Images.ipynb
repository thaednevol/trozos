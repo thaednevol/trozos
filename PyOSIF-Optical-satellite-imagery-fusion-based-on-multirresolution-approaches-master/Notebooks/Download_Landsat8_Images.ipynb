{
 "cells": [
  {
   "cell_type": "markdown",
   "metadata": {},
   "source": [
    "# Python libraries"
   ]
  },
  {
   "cell_type": "code",
   "execution_count": 1,
   "metadata": {},
   "outputs": [],
   "source": [
    "import ee\n",
    "import geemap\n",
    "import os\n",
    "import numpy as np\n",
    "import matplotlib.pyplot as plt"
   ]
  },
  {
   "cell_type": "markdown",
   "metadata": {},
   "source": [
    "# Display map\n",
    "To display the map the Map of geemap is used https://github.com/giswqs/geemap, which inherits from ipyleaft.Map https://ipyleaflet.readthedocs.io/en/latest/api_reference/map.html."
   ]
  },
  {
   "cell_type": "code",
   "execution_count": 2,
   "metadata": {
    "scrolled": false
   },
   "outputs": [
    {
     "data": {
      "application/vnd.jupyter.widget-view+json": {
       "model_id": "14f4a4e429424fe88aaadb53cd777cc6",
       "version_major": 2,
       "version_minor": 0
      },
      "text/plain": [
       "Map(center=[40, -100], controls=(WidgetControl(options=['position'], widget=HBox(children=(ToggleButton(value=…"
      ]
     },
     "metadata": {},
     "output_type": "display_data"
    }
   ],
   "source": [
    "Map = geemap.Map()\n",
    "Map"
   ]
  },
  {
   "cell_type": "markdown",
   "metadata": {},
   "source": [
    "# Load Landsat 8 image\n",
    "To load a the image from Landsat 8, a image from Google Earth Engine Data Catalog is filtered https://developers.google.com/earth-engine/datasets/catalog/landsat-8/ and displayed on the interactive map."
   ]
  },
  {
   "cell_type": "code",
   "execution_count": 3,
   "metadata": {
    "scrolled": true
   },
   "outputs": [],
   "source": [
    "point = ee.Geometry.Point(-3.83502, 40.40595);\n",
    "start = ee.Date('2019-07-01');\n",
    "finish = ee.Date('2019-07-31');\n",
    "\n",
    "# Filter a image from the landsat raw images collection, using bounds, date, and selecting the image with the least cloud cover\n",
    "img = ee.ImageCollection('LANDSAT/LC08/C01/T1') \\\n",
    "            .filterBounds(point) \\\n",
    "            .filterDate(start, finish) \\\n",
    "            .sort('CLOUD_COVER', True) \\\n",
    "            .first()\n",
    "\n",
    "# Select the corresponding bands for the multiespectral and panchromatic image\n",
    "img_multi = img.select(['B4', 'B3', 'B2'])\n",
    "img_pan = img.select(['B8'])\n",
    "\n",
    "# Display the images on the map\n",
    "Map.addLayer(img_multi)\n",
    "Map.addLayer(img_pan)\n",
    "\n",
    "# Center the map\n",
    "Map.setCenter(-3.83502, 40.40595, 8)"
   ]
  },
  {
   "cell_type": "markdown",
   "metadata": {},
   "source": [
    "# A. Select a region of interest (roi) using the map tools\n",
    "Using the tools row placed on the left of the map, draw a rectangle inside of the image. This rectangle will be the region of interest"
   ]
  },
  {
   "cell_type": "code",
   "execution_count": null,
   "metadata": {},
   "outputs": [],
   "source": [
    "# feature to extract\n",
    "feature = Map.draw_last_feature\n",
    "roi = feature.geometry()\n",
    "\n",
    "print('Polygon coordinates >>', roi.getInfo().get('coordinates'))"
   ]
  },
  {
   "cell_type": "markdown",
   "metadata": {},
   "source": [
    "# B. Select a roi using the coordinates\n",
    "Instead of drawing the rectangle, you can select an area by drawing a polygon using the GeoJson convention https://tools.ietf.org/html/rfc7946#section-3.1.6. There is a polygon drawn by default."
   ]
  },
  {
   "cell_type": "code",
   "execution_count": 4,
   "metadata": {},
   "outputs": [
    {
     "name": "stdout",
     "output_type": "stream",
     "text": [
      "Polygon coordinates >> [[[-4.547875, 39.766127], [-2.960148, 39.766127], [-2.960148, 40.551179], [-4.547875, 40.551179], [-4.547875, 39.766127]]]\n"
     ]
    }
   ],
   "source": [
    "# feature to extract\n",
    "roi = ee.Geometry.Polygon([\n",
    "  [[-4.547875, 39.766127], [-4.547875, 40.551179], [-2.960148, 40.551179], [-2.960148, 39.766127], [-4.547875, 39.766127]]\n",
    "]);\n",
    "\n",
    "# add the polygon to the map\n",
    "Map.addLayer(roi, {}, 'feature');\n",
    "\n",
    "print('Polygon coordinates >>', roi.getInfo().get('coordinates'))"
   ]
  },
  {
   "cell_type": "markdown",
   "metadata": {},
   "source": [
    "# Download the roi as a TIFF file\n",
    "The next block generates the path to store the TIFF."
   ]
  },
  {
   "cell_type": "code",
   "execution_count": 6,
   "metadata": {},
   "outputs": [],
   "source": [
    "out_dir = os.path.join(os.path.expanduser('~'), 'Downloads')\n",
    "filename_xs = os.path.join(out_dir, 'landsat_multi.tif')\n",
    "filename_pan = os.path.join(out_dir, 'landsat_pan.tif')"
   ]
  },
  {
   "cell_type": "markdown",
   "metadata": {},
   "source": [
    "### Download as raw images without resizing"
   ]
  },
  {
   "cell_type": "markdown",
   "metadata": {},
   "source": [
    "* A TIFF file including all bands"
   ]
  },
  {
   "cell_type": "code",
   "execution_count": null,
   "metadata": {},
   "outputs": [],
   "source": [
    "geemap.ee_export_image(img_multi, filename=filename_xs, region=roi, file_per_band=False)\n",
    "geemap.ee_export_image(img_pan, filename=filename_pan, region=roi, file_per_band=False)"
   ]
  },
  {
   "cell_type": "markdown",
   "metadata": {},
   "source": [
    "* A TIFF file for each band"
   ]
  },
  {
   "cell_type": "code",
   "execution_count": null,
   "metadata": {},
   "outputs": [],
   "source": [
    "geemap.ee_export_image(img_multi, filename=filename_xs, region=roi, file_per_band=True)\n",
    "geemap.ee_export_image(img_pan, filename=filename_pan, region=roi, file_per_band=False)"
   ]
  },
  {
   "cell_type": "markdown",
   "metadata": {},
   "source": [
    "### Download resized images"
   ]
  },
  {
   "cell_type": "markdown",
   "metadata": {},
   "source": [
    "* A TIFF file including all bands"
   ]
  },
  {
   "cell_type": "code",
   "execution_count": null,
   "metadata": {},
   "outputs": [],
   "source": [
    "# Set the image scale meters, 150 means 15 meters of resolution, change to the convenient value\n",
    "img_scale = 150\n",
    "geemap.ee_export_image(img_multi, filename=filename_xs, scale = img_scale, region=roi, file_per_band=False)\n",
    "geemap.ee_export_image(img_pan, filename=filename_pan, scale = img_scale, region=roi, file_per_band=False)"
   ]
  },
  {
   "cell_type": "markdown",
   "metadata": {},
   "source": [
    "* A TIFF file for each band (This option is recommended to proceed with the pansharpening module)"
   ]
  },
  {
   "cell_type": "code",
   "execution_count": 9,
   "metadata": {},
   "outputs": [
    {
     "name": "stdout",
     "output_type": "stream",
     "text": [
      "Generating URL ...\n",
      "Downloading data from https://earthengine.googleapis.com/v1alpha/projects/earthengine-legacy/thumbnails/d33760e6cf6be7e4be621aa699e18ad5-5e0b14938ab52ab59db05fc73e4373aa:getPixels\n",
      "Please wait ...\n",
      "[WinError 32] El proceso no tiene acceso al archivo porque está siendo utilizado por otro proceso: 'C:\\\\Users\\\\Jiahao\\\\Downloads\\\\landsat_multi.zip'\n",
      "Generating URL ...\n",
      "Downloading data from https://earthengine.googleapis.com/v1alpha/projects/earthengine-legacy/thumbnails/5f9592df85b78859d663bc815144d0ae-d036a6dc2e29e1c9381e671466143bd2:getPixels\n",
      "Please wait ...\n",
      "[WinError 32] El proceso no tiene acceso al archivo porque está siendo utilizado por otro proceso: 'C:\\\\Users\\\\Jiahao\\\\Downloads\\\\landsat_pan.zip'\n"
     ]
    }
   ],
   "source": [
    "# Set the image scale meters, 150 means 15 meters of resolution, change to the convenient value\n",
    "img_scale = 150\n",
    "geemap.ee_export_image(img_multi, filename=filename_xs, scale = img_scale, region=roi, file_per_band=True)\n",
    "geemap.ee_export_image(img_pan, filename=filename_pan, scale = img_scale, region=roi, file_per_band=False)"
   ]
  },
  {
   "cell_type": "code",
   "execution_count": null,
   "metadata": {},
   "outputs": [],
   "source": []
  }
 ],
 "metadata": {
  "kernelspec": {
   "display_name": "Python 3",
   "language": "python",
   "name": "python3"
  },
  "language_info": {
   "codemirror_mode": {
    "name": "ipython",
    "version": 3
   },
   "file_extension": ".py",
   "mimetype": "text/x-python",
   "name": "python",
   "nbconvert_exporter": "python",
   "pygments_lexer": "ipython3",
   "version": "3.8.2"
  }
 },
 "nbformat": 4,
 "nbformat_minor": 4
}
